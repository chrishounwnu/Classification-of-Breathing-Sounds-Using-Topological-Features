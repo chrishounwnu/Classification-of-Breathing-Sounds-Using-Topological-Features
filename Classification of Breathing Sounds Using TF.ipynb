{
 "cells": [
  {
   "cell_type": "markdown",
   "id": "d41cae07-81ab-4144-83ec-e79cbbc3ea48",
   "metadata": {},
   "source": [
    "# Project 3: Classification of Breathing Sounds Using Topological Features"
   ]
  },
  {
   "cell_type": "markdown",
   "id": "90174b2f-f00e-4c4e-b486-2e5fe48f66e6",
   "metadata": {},
   "source": [
    "This project focuses on classifying breathing sounds into two categories: \"Normal\" (breathing without wheezing) and \"Wheezing\" (breathing with wheezing, typically observed in asthmatic patients). The dataset consists of sound wave recordings organized into two folders: `Normal` and `Wheezing`.\n",
    "\n",
    "The main objectives of this project are:\n",
    "1. To preprocess the sound data and assign appropriate labels (`0` for Normal and `1` for Wheezing).\n",
    "2. To split the data into training (80%) and testing (20%) sets.\n",
    "3. To adapt feature extraction techniques such as Persistent Entropy and Carlsson Coordinates to the dataset.\n",
    "4. To optimize the model and achieve the best possible accuracy for classifying the breathing sounds.\n",
    "\n",
    "The project evaluates the model's performance using metrics like accuracy and ROC AUC, emphasizing generalization to unseen data."
   ]
  },
  {
   "cell_type": "code",
   "execution_count": 1,
   "id": "08b4f15e-c560-4232-955b-e225069ea355",
   "metadata": {},
   "outputs": [],
   "source": [
    "import numpy as np\n",
    "import pandas as pd\n",
    "from pathlib import Path\n",
    "from IPython.display import YouTubeVideo\n",
    "from fastprogress import progress_bar\n",
    "\n",
    "# hepml\n",
    "from hepml.core import make_gravitational_waves, download_dataset\n",
    "\n",
    "# tda magic\n",
    "from gtda.homology import VietorisRipsPersistence, CubicalPersistence\n",
    "from gtda.diagrams import PersistenceEntropy, Scaler\n",
    "from gtda.plotting import plot_heatmap, plot_point_cloud, plot_diagram\n",
    "from gtda.pipeline import Pipeline\n",
    "from gtda.time_series import TakensEmbedding\n",
    "from gtda.time_series import SingleTakensEmbedding\n",
    "\n",
    "# ml tools\n",
    "from sklearn.ensemble import RandomForestClassifier\n",
    "from sklearn.decomposition import PCA\n",
    "from sklearn.model_selection import train_test_split\n",
    "from sklearn.metrics import roc_curve, roc_auc_score, accuracy_score\n",
    "\n",
    "# dataviz\n",
    "import matplotlib.pyplot as plt\n",
    "import seaborn as sns\n",
    "\n",
    "sns.set(color_codes=True)\n",
    "sns.set_palette(sns.color_palette(\"muted\"))"
   ]
  },
  {
   "cell_type": "code",
   "execution_count": 3,
   "id": "c3b2c4e0-002d-4362-829f-a8cd16dae13e",
   "metadata": {},
   "outputs": [
    {
     "name": "stdout",
     "output_type": "stream",
     "text": [
      "Combined 201 files into 'C:\\Users\\HP\\Desktop\\AIMS\\Block 2025\\Topo Analysis\\project_3'\n",
      "Labels saved to 'labels.csv'.\n"
     ]
    }
   ],
   "source": [
    "import os\n",
    "import random\n",
    "import shutil\n",
    "import pandas as pd\n",
    "\n",
    "def combine_and_label_folders(normal_folder, asthma_folder, output_folder):\n",
    "    # Create output folder if it doesn't exist\n",
    "    os.makedirs(output_folder, exist_ok=True)\n",
    "\n",
    "    # Get lists of WAV files from both folders\n",
    "    normal_files = [f for f in os.listdir(normal_folder) if f.endswith('.wav')]\n",
    "    asthma_files = [f for f in os.listdir(asthma_folder) if f.endswith('.wav')]\n",
    "    \n",
    "    # Create labeled lists\n",
    "    labeled_files = [(f, 0) for f in normal_files] + [(f, 1) for f in asthma_files]\n",
    "\n",
    "    # Shuffle the labeled list\n",
    "    random.shuffle(labeled_files)\n",
    "\n",
    "    # Copy files to the output folder and create a label mapping\n",
    "    labels = []\n",
    "    for file_name, label in labeled_files:\n",
    "        if label == 0:\n",
    "            source = os.path.join(normal_folder, file_name)\n",
    "        else:\n",
    "            source = os.path.join(asthma_folder, file_name)\n",
    "\n",
    "        destination = os.path.join(output_folder, file_name)\n",
    "        shutil.copy(source, destination)\n",
    "        labels.append((file_name, label))\n",
    "\n",
    "    # Create a DataFrame and save it as a CSV file\n",
    "    df = pd.DataFrame(labels, columns=['file_name', 'label'])\n",
    "    df.to_csv(os.path.join(output_folder, 'labels.csv'), index=False)\n",
    "\n",
    "    print(f\"Combined {len(normal_files) + len(asthma_files)} files into '{output_folder}'\")\n",
    "    print(\"Labels saved to 'labels.csv'.\")\n",
    "\n",
    "# Usage\n",
    "normal_folder = r\"C:\\Users\\HP\\Desktop\\AIMS\\Block 2025\\Topo Analysis\\project_3\\Normal\" \n",
    "asthma_folder = r\"C:\\Users\\HP\\Desktop\\AIMS\\Block 2025\\Topo Analysis\\project_3\\Asthma\"  \n",
    "output_folder = r\"C:\\Users\\HP\\Desktop\\AIMS\\Block 2025\\Topo Analysis\\project_3\"    \n",
    "\n",
    "combine_and_label_folders(normal_folder, asthma_folder, output_folder)"
   ]
  },
  {
   "cell_type": "code",
   "execution_count": 4,
   "id": "3d25e9aa-d3fe-4dcf-9cf6-de920a763a33",
   "metadata": {},
   "outputs": [],
   "source": [
    "labeled_files = pd.read_csv(r\"C:\\Users\\HP\\Desktop\\AIMS\\Block 2025\\Topo Analysis\\project_3\\labels.csv\")"
   ]
  },
  {
   "cell_type": "code",
   "execution_count": 5,
   "id": "5da370d3-3a0b-4265-8c51-6fd7f68bf5e2",
   "metadata": {},
   "outputs": [
    {
     "data": {
      "text/html": [
       "<div>\n",
       "<style scoped>\n",
       "    .dataframe tbody tr th:only-of-type {\n",
       "        vertical-align: middle;\n",
       "    }\n",
       "\n",
       "    .dataframe tbody tr th {\n",
       "        vertical-align: top;\n",
       "    }\n",
       "\n",
       "    .dataframe thead th {\n",
       "        text-align: right;\n",
       "    }\n",
       "</style>\n",
       "<table border=\"1\" class=\"dataframe\">\n",
       "  <thead>\n",
       "    <tr style=\"text-align: right;\">\n",
       "      <th></th>\n",
       "      <th>file_name</th>\n",
       "      <th>label</th>\n",
       "    </tr>\n",
       "  </thead>\n",
       "  <tbody>\n",
       "    <tr>\n",
       "      <th>0</th>\n",
       "      <td>EP70_N,N,P L U,52,F.wav</td>\n",
       "      <td>0</td>\n",
       "    </tr>\n",
       "    <tr>\n",
       "      <th>1</th>\n",
       "      <td>EP100_N,N,P R M,70,F.wav</td>\n",
       "      <td>0</td>\n",
       "    </tr>\n",
       "    <tr>\n",
       "      <th>2</th>\n",
       "      <td>DP73_N,N,P L L,32,M.wav</td>\n",
       "      <td>0</td>\n",
       "    </tr>\n",
       "    <tr>\n",
       "      <th>3</th>\n",
       "      <td>BP38_Asthma,E W,P R M,38,M.wav</td>\n",
       "      <td>1</td>\n",
       "    </tr>\n",
       "    <tr>\n",
       "      <th>4</th>\n",
       "      <td>EP88_N,N,A R U,29,M.wav</td>\n",
       "      <td>0</td>\n",
       "    </tr>\n",
       "    <tr>\n",
       "      <th>...</th>\n",
       "      <td>...</td>\n",
       "      <td>...</td>\n",
       "    </tr>\n",
       "    <tr>\n",
       "      <th>196</th>\n",
       "      <td>EP10_Asthma,E W,P R U,59,M.wav</td>\n",
       "      <td>1</td>\n",
       "    </tr>\n",
       "    <tr>\n",
       "      <th>197</th>\n",
       "      <td>BP78_Asthma,E W,P R M,20,M.wav</td>\n",
       "      <td>1</td>\n",
       "    </tr>\n",
       "    <tr>\n",
       "      <th>198</th>\n",
       "      <td>DP44_asthma,E W,P R U,40,M.wav</td>\n",
       "      <td>1</td>\n",
       "    </tr>\n",
       "    <tr>\n",
       "      <th>199</th>\n",
       "      <td>DP102_N,N,P L L,41,M.wav</td>\n",
       "      <td>0</td>\n",
       "    </tr>\n",
       "    <tr>\n",
       "      <th>200</th>\n",
       "      <td>EP49_N,N,P R M,21,M.wav</td>\n",
       "      <td>0</td>\n",
       "    </tr>\n",
       "  </tbody>\n",
       "</table>\n",
       "<p>201 rows × 2 columns</p>\n",
       "</div>"
      ],
      "text/plain": [
       "                          file_name  label\n",
       "0           EP70_N,N,P L U,52,F.wav      0\n",
       "1          EP100_N,N,P R M,70,F.wav      0\n",
       "2           DP73_N,N,P L L,32,M.wav      0\n",
       "3    BP38_Asthma,E W,P R M,38,M.wav      1\n",
       "4           EP88_N,N,A R U,29,M.wav      0\n",
       "..                              ...    ...\n",
       "196  EP10_Asthma,E W,P R U,59,M.wav      1\n",
       "197  BP78_Asthma,E W,P R M,20,M.wav      1\n",
       "198  DP44_asthma,E W,P R U,40,M.wav      1\n",
       "199        DP102_N,N,P L L,41,M.wav      0\n",
       "200         EP49_N,N,P R M,21,M.wav      0\n",
       "\n",
       "[201 rows x 2 columns]"
      ]
     },
     "execution_count": 5,
     "metadata": {},
     "output_type": "execute_result"
    }
   ],
   "source": [
    "labeled_files"
   ]
  },
  {
   "cell_type": "code",
   "execution_count": 6,
   "id": "595fcb17-bd5b-494e-b2a1-e8b0295db435",
   "metadata": {},
   "outputs": [],
   "source": [
    "labels = labeled_files.drop(labeled_files.columns[0], axis=1)\n",
    "\n",
    "# Convert the remaining DataFrame to a NumPy ndarray\n",
    "ndarray = labels.to_numpy()"
   ]
  },
  {
   "cell_type": "code",
   "execution_count": 7,
   "id": "e97cd0b2-2dc8-4c28-aadd-509e6d4d274e",
   "metadata": {},
   "outputs": [
    {
     "data": {
      "text/plain": [
       "(201, 1)"
      ]
     },
     "execution_count": 7,
     "metadata": {},
     "output_type": "execute_result"
    }
   ],
   "source": [
    "ndarray.shape"
   ]
  },
  {
   "cell_type": "code",
   "execution_count": 8,
   "id": "6b477338-831f-4cd7-b964-67861e9abfba",
   "metadata": {},
   "outputs": [],
   "source": [
    "df=output_folder"
   ]
  },
  {
   "cell_type": "code",
   "execution_count": 9,
   "id": "86836fd0-f54a-40d3-88d5-9c0a578ef7e8",
   "metadata": {
    "scrolled": true
   },
   "outputs": [
    {
     "name": "stderr",
     "output_type": "stream",
     "text": [
      "Processing: 100%|████████████████████████████████████████████████████████████████| 201/201 [00:00<00:00, 100747.50it/s]"
     ]
    },
    {
     "name": "stdout",
     "output_type": "stream",
     "text": [
      "Skipping file 0 due to insufficient length (1000 timestamps).\n",
      "Skipping file 1 due to insufficient length (1000 timestamps).\n",
      "Skipping file 2 due to insufficient length (1000 timestamps).\n",
      "Skipping file 3 due to insufficient length (1000 timestamps).\n",
      "Skipping file 4 due to insufficient length (1000 timestamps).\n",
      "Skipping file 5 due to insufficient length (1000 timestamps).\n",
      "Skipping file 6 due to insufficient length (1000 timestamps).\n",
      "Skipping file 7 due to insufficient length (1000 timestamps).\n",
      "Skipping file 8 due to insufficient length (1000 timestamps).\n",
      "Skipping file 9 due to insufficient length (1000 timestamps).\n",
      "Skipping file 10 due to insufficient length (1000 timestamps).\n",
      "Skipping file 11 due to insufficient length (1000 timestamps).\n",
      "Skipping file 12 due to insufficient length (1000 timestamps).\n",
      "Skipping file 13 due to insufficient length (1000 timestamps).\n",
      "Skipping file 14 due to insufficient length (1000 timestamps).\n",
      "Skipping file 15 due to insufficient length (1000 timestamps).\n",
      "Skipping file 16 due to insufficient length (1000 timestamps).\n",
      "Skipping file 17 due to insufficient length (1000 timestamps).\n",
      "Skipping file 18 due to insufficient length (1000 timestamps).\n",
      "Skipping file 19 due to insufficient length (1000 timestamps).\n",
      "Skipping file 20 due to insufficient length (1000 timestamps).\n",
      "Skipping file 21 due to insufficient length (1000 timestamps).\n",
      "Skipping file 22 due to insufficient length (1000 timestamps).\n",
      "Skipping file 23 due to insufficient length (1000 timestamps).\n",
      "Skipping file 24 due to insufficient length (1000 timestamps).\n",
      "Skipping file 25 due to insufficient length (1000 timestamps).\n",
      "Skipping file 26 due to insufficient length (1000 timestamps).\n",
      "Skipping file 27 due to insufficient length (1000 timestamps).\n",
      "Skipping file 28 due to insufficient length (1000 timestamps).\n",
      "Skipping file 29 due to insufficient length (1000 timestamps).\n",
      "Skipping file 30 due to insufficient length (1000 timestamps).\n",
      "Skipping file 31 due to insufficient length (1000 timestamps).\n",
      "Skipping file 32 due to insufficient length (1000 timestamps).\n",
      "Skipping file 33 due to insufficient length (1000 timestamps).\n",
      "Skipping file 34 due to insufficient length (1000 timestamps).\n",
      "Skipping file 35 due to insufficient length (1000 timestamps).\n",
      "Skipping file 36 due to insufficient length (1000 timestamps).\n",
      "Skipping file 37 due to insufficient length (1000 timestamps).\n",
      "Skipping file 38 due to insufficient length (1000 timestamps).\n",
      "Skipping file 39 due to insufficient length (1000 timestamps).\n",
      "Skipping file 40 due to insufficient length (1000 timestamps).\n",
      "Skipping file 41 due to insufficient length (1000 timestamps).\n",
      "Skipping file 42 due to insufficient length (1000 timestamps).\n",
      "Skipping file 43 due to insufficient length (1000 timestamps).\n",
      "Skipping file 44 due to insufficient length (1000 timestamps).\n",
      "Skipping file 45 due to insufficient length (1000 timestamps).\n",
      "Skipping file 46 due to insufficient length (1000 timestamps).\n",
      "Skipping file 47 due to insufficient length (1000 timestamps).\n",
      "Skipping file 48 due to insufficient length (1000 timestamps).\n",
      "Skipping file 49 due to insufficient length (1000 timestamps).\n",
      "Skipping file 50 due to insufficient length (1000 timestamps).\n",
      "Skipping file 51 due to insufficient length (1000 timestamps).\n",
      "Skipping file 52 due to insufficient length (1000 timestamps).\n",
      "Skipping file 53 due to insufficient length (1000 timestamps).\n",
      "Skipping file 54 due to insufficient length (1000 timestamps).\n",
      "Skipping file 55 due to insufficient length (1000 timestamps).\n",
      "Skipping file 56 due to insufficient length (1000 timestamps).\n",
      "Skipping file 57 due to insufficient length (1000 timestamps).\n",
      "Skipping file 58 due to insufficient length (1000 timestamps).\n",
      "Skipping file 59 due to insufficient length (1000 timestamps).\n",
      "Skipping file 60 due to insufficient length (1000 timestamps).\n",
      "Skipping file 61 due to insufficient length (1000 timestamps).\n",
      "Skipping file 62 due to insufficient length (1000 timestamps).\n",
      "Skipping file 63 due to insufficient length (1000 timestamps).\n",
      "Skipping file 64 due to insufficient length (1000 timestamps).\n",
      "Skipping file 65 due to insufficient length (1000 timestamps).\n",
      "Skipping file 66 due to insufficient length (1000 timestamps).\n",
      "Skipping file 67 due to insufficient length (1000 timestamps).\n",
      "Skipping file 68 due to insufficient length (1000 timestamps).\n",
      "Skipping file 69 due to insufficient length (1000 timestamps).\n",
      "Skipping file 70 due to insufficient length (1000 timestamps).\n",
      "Skipping file 71 due to insufficient length (1000 timestamps).\n",
      "Skipping file 72 due to insufficient length (1000 timestamps).\n",
      "Skipping file 73 due to insufficient length (1000 timestamps).\n",
      "Skipping file 74 due to insufficient length (1000 timestamps).\n",
      "Skipping file 75 due to insufficient length (1000 timestamps).\n",
      "Skipping file 76 due to insufficient length (1000 timestamps).\n",
      "Skipping file 77 due to insufficient length (1000 timestamps).\n",
      "Skipping file 78 due to insufficient length (1000 timestamps).\n",
      "Skipping file 79 due to insufficient length (1000 timestamps).\n",
      "Skipping file 80 due to insufficient length (1000 timestamps).\n",
      "Skipping file 81 due to insufficient length (1000 timestamps).\n",
      "Skipping file 82 due to insufficient length (1000 timestamps).\n",
      "Skipping file 83 due to insufficient length (1000 timestamps).\n",
      "Skipping file 84 due to insufficient length (1000 timestamps).\n",
      "Skipping file 85 due to insufficient length (1000 timestamps).\n",
      "Skipping file 86 due to insufficient length (1000 timestamps).\n",
      "Skipping file 87 due to insufficient length (1000 timestamps).\n",
      "Skipping file 88 due to insufficient length (1000 timestamps).\n",
      "Skipping file 89 due to insufficient length (1000 timestamps).\n",
      "Skipping file 90 due to insufficient length (1000 timestamps).\n",
      "Skipping file 91 due to insufficient length (1000 timestamps).\n",
      "Skipping file 92 due to insufficient length (1000 timestamps).\n",
      "Skipping file 93 due to insufficient length (1000 timestamps).\n",
      "Skipping file 94 due to insufficient length (1000 timestamps).\n",
      "Skipping file 95 due to insufficient length (1000 timestamps).\n",
      "Skipping file 96 due to insufficient length (1000 timestamps).\n",
      "Skipping file 97 due to insufficient length (1000 timestamps).\n",
      "Skipping file 98 due to insufficient length (1000 timestamps).\n",
      "Skipping file 99 due to insufficient length (1000 timestamps).\n",
      "Skipping file 100 due to insufficient length (1000 timestamps).\n",
      "Skipping file 101 due to insufficient length (1000 timestamps).\n",
      "Skipping file 102 due to insufficient length (1000 timestamps).\n",
      "Skipping file 103 due to insufficient length (1000 timestamps).\n",
      "Skipping file 104 due to insufficient length (1000 timestamps).\n",
      "Skipping file 105 due to insufficient length (1000 timestamps).\n",
      "Skipping file 106 due to insufficient length (1000 timestamps).\n",
      "Skipping file 107 due to insufficient length (1000 timestamps).\n",
      "Skipping file 108 due to insufficient length (1000 timestamps).\n",
      "Skipping file 109 due to insufficient length (1000 timestamps).\n",
      "Skipping file 110 due to insufficient length (1000 timestamps).\n",
      "Skipping file 111 due to insufficient length (1000 timestamps).\n",
      "Skipping file 112 due to insufficient length (1000 timestamps).\n",
      "Skipping file 113 due to insufficient length (1000 timestamps).\n",
      "Skipping file 114 due to insufficient length (1000 timestamps).\n",
      "Skipping file 115 due to insufficient length (1000 timestamps).\n",
      "Skipping file 116 due to insufficient length (1000 timestamps).\n",
      "Skipping file 117 due to insufficient length (1000 timestamps).\n",
      "Skipping file 118 due to insufficient length (1000 timestamps).\n",
      "Skipping file 119 due to insufficient length (1000 timestamps).\n",
      "Skipping file 120 due to insufficient length (1000 timestamps).\n",
      "Skipping file 121 due to insufficient length (1000 timestamps).\n",
      "Skipping file 122 due to insufficient length (1000 timestamps).\n",
      "Skipping file 123 due to insufficient length (1000 timestamps).\n",
      "Skipping file 124 due to insufficient length (1000 timestamps).\n",
      "Skipping file 125 due to insufficient length (1000 timestamps).\n",
      "Skipping file 126 due to insufficient length (1000 timestamps).\n",
      "Skipping file 127 due to insufficient length (1000 timestamps).\n",
      "Skipping file 128 due to insufficient length (1000 timestamps).\n",
      "Skipping file 129 due to insufficient length (1000 timestamps).\n",
      "Skipping file 130 due to insufficient length (1000 timestamps).\n",
      "Skipping file 131 due to insufficient length (1000 timestamps).\n",
      "Skipping file 132 due to insufficient length (1000 timestamps).\n",
      "Skipping file 133 due to insufficient length (1000 timestamps).\n",
      "Skipping file 134 due to insufficient length (1000 timestamps).\n",
      "Skipping file 135 due to insufficient length (1000 timestamps).\n",
      "Skipping file 136 due to insufficient length (1000 timestamps).\n",
      "Skipping file 137 due to insufficient length (1000 timestamps).\n",
      "Skipping file 138 due to insufficient length (1000 timestamps).\n",
      "Skipping file 139 due to insufficient length (1000 timestamps).\n",
      "Skipping file 140 due to insufficient length (1000 timestamps).\n",
      "Skipping file 141 due to insufficient length (1000 timestamps).\n",
      "Skipping file 142 due to insufficient length (1000 timestamps).\n",
      "Skipping file 143 due to insufficient length (1000 timestamps).\n",
      "Skipping file 144 due to insufficient length (1000 timestamps).\n",
      "Skipping file 145 due to insufficient length (1000 timestamps).\n",
      "Skipping file 146 due to insufficient length (1000 timestamps).\n",
      "Skipping file 147 due to insufficient length (1000 timestamps).\n",
      "Skipping file 148 due to insufficient length (1000 timestamps).\n",
      "Skipping file 149 due to insufficient length (1000 timestamps).\n",
      "Skipping file 150 due to insufficient length (1000 timestamps).\n",
      "Skipping file 151 due to insufficient length (1000 timestamps).\n",
      "Skipping file 152 due to insufficient length (1000 timestamps).\n",
      "Skipping file 153 due to insufficient length (1000 timestamps).\n",
      "Skipping file 154 due to insufficient length (1000 timestamps).\n",
      "Skipping file 155 due to insufficient length (1000 timestamps).\n",
      "Skipping file 156 due to insufficient length (1000 timestamps).\n",
      "Skipping file 157 due to insufficient length (1000 timestamps).\n",
      "Skipping file 158 due to insufficient length (1000 timestamps).\n",
      "Skipping file 159 due to insufficient length (1000 timestamps).\n",
      "Skipping file 160 due to insufficient length (1000 timestamps).\n",
      "Skipping file 161 due to insufficient length (1000 timestamps).\n",
      "Skipping file 162 due to insufficient length (1000 timestamps).\n",
      "Skipping file 163 due to insufficient length (1000 timestamps).\n",
      "Skipping file 164 due to insufficient length (1000 timestamps).\n",
      "Skipping file 165 due to insufficient length (1000 timestamps).\n",
      "Skipping file 166 due to insufficient length (1000 timestamps).\n",
      "Skipping file 167 due to insufficient length (1000 timestamps).\n",
      "Skipping file 168 due to insufficient length (1000 timestamps).\n",
      "Skipping file 169 due to insufficient length (1000 timestamps).\n",
      "Skipping file 170 due to insufficient length (1000 timestamps).\n",
      "Skipping file 171 due to insufficient length (1000 timestamps).\n",
      "Skipping file 172 due to insufficient length (1000 timestamps).\n",
      "Skipping file 173 due to insufficient length (1000 timestamps).\n",
      "Skipping file 174 due to insufficient length (1000 timestamps).\n",
      "Skipping file 175 due to insufficient length (1000 timestamps).\n",
      "Skipping file 176 due to insufficient length (1000 timestamps).\n",
      "Skipping file 177 due to insufficient length (1000 timestamps).\n",
      "Skipping file 178 due to insufficient length (1000 timestamps).\n",
      "Skipping file 179 due to insufficient length (1000 timestamps).\n",
      "Skipping file 180 due to insufficient length (1000 timestamps).\n",
      "Skipping file 181 due to insufficient length (1000 timestamps).\n",
      "Skipping file 182 due to insufficient length (1000 timestamps).\n",
      "Skipping file 183 due to insufficient length (1000 timestamps).\n",
      "Skipping file 184 due to insufficient length (1000 timestamps).\n",
      "Skipping file 185 due to insufficient length (1000 timestamps).\n",
      "Skipping file 186 due to insufficient length (1000 timestamps).\n",
      "Skipping file 187 due to insufficient length (1000 timestamps).\n",
      "Skipping file 188 due to insufficient length (1000 timestamps).\n",
      "Skipping file 189 due to insufficient length (1000 timestamps).\n",
      "Skipping file 190 due to insufficient length (1000 timestamps).\n",
      "Skipping file 191 due to insufficient length (1000 timestamps).\n",
      "Skipping file 192 due to insufficient length (1000 timestamps).\n",
      "Skipping file 193 due to insufficient length (1000 timestamps).\n",
      "Skipping file 194 due to insufficient length (1000 timestamps).\n",
      "Skipping file 195 due to insufficient length (1000 timestamps).\n",
      "Skipping file 196 due to insufficient length (1000 timestamps).\n",
      "Skipping file 197 due to insufficient length (1000 timestamps).\n",
      "Skipping file 198 due to insufficient length (1000 timestamps).\n",
      "Skipping file 199 due to insufficient length (1000 timestamps).\n",
      "Skipping file 200 due to insufficient length (1000 timestamps).\n",
      "Point clouds shape: (0,)\n"
     ]
    },
    {
     "name": "stderr",
     "output_type": "stream",
     "text": [
      "\n"
     ]
    }
   ],
   "source": [
    "import os\n",
    "import numpy as np\n",
    "from sklearn.decomposition import PCA\n",
    "from gtda.time_series import SingleTakensEmbedding\n",
    "from tqdm import tqdm  # For progress bar\n",
    "\n",
    "# Parameters\n",
    "embedding_dimension = 200\n",
    "embedding_time_delay = 10\n",
    "stride = 10\n",
    "\n",
    "min_required_length = embedding_time_delay * (embedding_dimension - 1) + 1\n",
    "\n",
    "folder_path = output_folder  \n",
    "\n",
    "# List to hold noisy signals\n",
    "noisy_signals = []\n",
    "\n",
    "# Read all files in the specified folder\n",
    "for filename in os.listdir(folder_path):\n",
    "    if filename.endswith('.wav'):  \n",
    "        file_path = os.path.join(folder_path, filename)\n",
    "\n",
    "        noisy_signals.append(np.random.rand(1000))  \n",
    "\n",
    "point_clouds = []\n",
    "\n",
    "for i in tqdm(range(len(noisy_signals)), desc=\"Processing\"):\n",
    "    signal = noisy_signals[i]\n",
    "\n",
    "    if len(signal) < min_required_length:\n",
    "        print(f\"Skipping file {i} due to insufficient length ({len(signal)} timestamps).\")\n",
    "        continue\n",
    "\n",
    "    embedder = SingleTakensEmbedding(\n",
    "        parameters_type=\"fixed\", n_jobs=8, time_delay=embedding_time_delay, dimension=embedding_dimension, stride=stride\n",
    "    )\n",
    "\n",
    "    pca = PCA(n_components=3)\n",
    "    embedded_data = fit_embedder(embedder, signal, verbose=False)\n",
    "    \n",
    "    if embedded_data.size > 0:\n",
    "        point_clouds.append(pca.fit_transform(embedded_data))\n",
    "    else:\n",
    "        print(f\"Embedded data for file {i} is empty.\")\n",
    "\n",
    "point_clouds = np.asarray(point_clouds)\n",
    "print(f\"Point clouds shape: {point_clouds.shape}\")"
   ]
  },
  {
   "cell_type": "code",
   "execution_count": 10,
   "id": "ad0d8e0c-4699-4deb-b285-039bcc8f8a52",
   "metadata": {},
   "outputs": [],
   "source": [
    "def fit_embedder(embedder, y, verbose=True):\n",
    "    y_embedded = embedder.fit_transform(y)\n",
    "\n",
    "    if verbose:\n",
    "        print(f\"Shape of embedded time series: {y_embedded.shape}\")\n",
    "        print(f\"Optimal embedding dimension is {embedder.dimension_} and time delay is {embedder.time_delay_}\")\n",
    "\n",
    "    return y_embedded"
   ]
  },
  {
   "cell_type": "markdown",
   "id": "93ba94f8-9c0e-4bf2-be78-596aafe07875",
   "metadata": {},
   "source": [
    "## Now, let us extract the topological features"
   ]
  },
  {
   "cell_type": "code",
   "execution_count": 12,
   "id": "f7ef065c-f6a4-4f86-90a4-6aa32ba818f0",
   "metadata": {},
   "outputs": [
    {
     "name": "stdout",
     "output_type": "stream",
     "text": [
      "Diagrams computed: [[[0.         0.03490482 0.        ]\n",
      "  [0.         0.03959266 0.        ]\n",
      "  [0.         0.05105233 0.        ]\n",
      "  ...\n",
      "  [0.10739686 0.10739686 1.        ]\n",
      "  [0.10739686 0.10739686 1.        ]\n",
      "  [0.10739686 0.10739686 1.        ]]\n",
      "\n",
      " [[0.         0.0281666  0.        ]\n",
      "  [0.         0.03070888 0.        ]\n",
      "  [0.         0.03733173 0.        ]\n",
      "  ...\n",
      "  [0.10739686 0.10739686 1.        ]\n",
      "  [0.10739686 0.10739686 1.        ]\n",
      "  [0.10739686 0.10739686 1.        ]]\n",
      "\n",
      " [[0.         0.03247057 0.        ]\n",
      "  [0.         0.03307172 0.        ]\n",
      "  [0.         0.04571074 0.        ]\n",
      "  ...\n",
      "  [0.10739686 0.10739686 1.        ]\n",
      "  [0.10739686 0.10739686 1.        ]\n",
      "  [0.10739686 0.10739686 1.        ]]\n",
      "\n",
      " ...\n",
      "\n",
      " [[0.         0.02446765 0.        ]\n",
      "  [0.         0.03110008 0.        ]\n",
      "  [0.         0.03192316 0.        ]\n",
      "  ...\n",
      "  [0.10739686 0.10739686 1.        ]\n",
      "  [0.10739686 0.10739686 1.        ]\n",
      "  [0.10739686 0.10739686 1.        ]]\n",
      "\n",
      " [[0.         0.03071117 0.        ]\n",
      "  [0.         0.03894834 0.        ]\n",
      "  [0.         0.0397591  0.        ]\n",
      "  ...\n",
      "  [0.10739686 0.10739686 1.        ]\n",
      "  [0.10739686 0.10739686 1.        ]\n",
      "  [0.10739686 0.10739686 1.        ]]\n",
      "\n",
      " [[0.         0.04205916 0.        ]\n",
      "  [0.         0.04530186 0.        ]\n",
      "  [0.         0.05176281 0.        ]\n",
      "  ...\n",
      "  [0.10739686 0.10739686 1.        ]\n",
      "  [0.10739686 0.10739686 1.        ]\n",
      "  [0.10739686 0.10739686 1.        ]]]\n"
     ]
    }
   ],
   "source": [
    "import os\n",
    "import numpy as np\n",
    "from gtda.homology import VietorisRipsPersistence\n",
    "from tqdm import tqdm  \n",
    "\n",
    "\n",
    "homology_dimensions = [0, 1]\n",
    "\n",
    "folder_path = output_folder  \n",
    "\n",
    "point_clouds = []\n",
    "\n",
    "for filename in os.listdir(folder_path):\n",
    "    if filename.endswith('.wav'):  \n",
    "        file_path = os.path.join(folder_path, filename)\n",
    "\n",
    "        point_cloud = np.random.rand(100, 3)  \n",
    "        point_clouds.append(point_cloud)\n",
    "\n",
    "point_clouds = np.array(point_clouds, dtype=object)  \n",
    "\n",
    "persistence = VietorisRipsPersistence(\n",
    "    metric=\"euclidean\",\n",
    "    homology_dimensions=homology_dimensions,\n",
    "    n_jobs=6,\n",
    "    collapse_edges=True,\n",
    ")\n",
    "\n",
    "\n",
    "diagrams_basic = persistence.fit_transform(point_clouds)\n",
    "\n",
    "print(\"Diagrams computed:\", diagrams_basic)"
   ]
  },
  {
   "cell_type": "code",
   "execution_count": 13,
   "id": "1a2fdc47-d6db-44ff-9db7-6f40a6fad493",
   "metadata": {},
   "outputs": [],
   "source": [
    "Arr = diagrams_basic[1]\n",
    "a1=Arr[Arr[:,2]==0].shape[0]; a2=Arr[Arr[:,2]==1].shape[0]#; a3=Arr[Arr[:,2]==2].shape[0] \n",
    "\n",
    "Arr_dim_0 = diagrams_basic[:,0:a1,0:2]; Arr_dim_1 = diagrams_basic[:,a1:a1+a2,0:2]#; Arr_dim_2 = diagrams_basic[:,a1+a2:a1+a2+a3,0:2] "
   ]
  },
  {
   "cell_type": "code",
   "execution_count": 14,
   "id": "e74fc2ec-7fb6-4217-9be8-12177b911a27",
   "metadata": {},
   "outputs": [
    {
     "data": {
      "text/plain": [
       "(201, 99, 2)"
      ]
     },
     "execution_count": 14,
     "metadata": {},
     "output_type": "execute_result"
    }
   ],
   "source": [
    "Arr_dim_0.shape"
   ]
  },
  {
   "cell_type": "code",
   "execution_count": 15,
   "id": "69330190-466e-4f66-b56b-65969043db20",
   "metadata": {},
   "outputs": [],
   "source": [
    "from teaspoon.ML import feature_functions as Ff\n",
    "from gtda.diagrams import PersistenceEntropy"
   ]
  },
  {
   "cell_type": "code",
   "execution_count": 16,
   "id": "7aa24a4c-4dda-4cb8-9968-92f6728ccbda",
   "metadata": {},
   "outputs": [
    {
     "data": {
      "text/plain": [
       "(201, 2)"
      ]
     },
     "execution_count": 16,
     "metadata": {},
     "output_type": "execute_result"
    }
   ],
   "source": [
    "persistence_entropy = PersistenceEntropy(normalize=False)\n",
    "\n",
    "X_features = persistence_entropy.fit_transform(diagrams_basic)\n",
    "\n",
    "X_features.shape"
   ]
  },
  {
   "cell_type": "code",
   "execution_count": 19,
   "id": "92b226fa-1b6c-43ab-acbc-6ab40184c843",
   "metadata": {},
   "outputs": [],
   "source": [
    "FN = 5\n",
    "my_list = [Arr_dim_0, Arr_dim_1]#, Arr_dim_2]\n",
    "for i in range(0,2):\n",
    "    FeatureMatrix, TotalNumComb, CombList = Ff.F_CCoordinates(my_list[i], FN)\n",
    "    X_features = np.concatenate((X_features, FeatureMatrix[-10]),axis=1)"
   ]
  },
  {
   "cell_type": "code",
   "execution_count": 20,
   "id": "f0b6a375-b209-4257-a8b0-3fe4835e863d",
   "metadata": {},
   "outputs": [
    {
     "data": {
      "text/plain": [
       "(201, 20)"
      ]
     },
     "execution_count": 20,
     "metadata": {},
     "output_type": "execute_result"
    }
   ],
   "source": [
    "X_features.shape"
   ]
  },
  {
   "cell_type": "code",
   "execution_count": 21,
   "id": "b1a66a2b-b163-46c6-8683-db2290db7ca0",
   "metadata": {},
   "outputs": [],
   "source": [
    "from gtda.diagrams import NumberOfPoints\n",
    "\n",
    "Arr_pts=NumberOfPoints().fit_transform(diagrams_basic)"
   ]
  },
  {
   "cell_type": "code",
   "execution_count": 22,
   "id": "aae7ee15-7bde-43fc-958c-c70fd0d41962",
   "metadata": {},
   "outputs": [
    {
     "data": {
      "text/plain": [
       "(201, 2)"
      ]
     },
     "execution_count": 22,
     "metadata": {},
     "output_type": "execute_result"
    }
   ],
   "source": [
    "Arr_pts.shape"
   ]
  },
  {
   "cell_type": "code",
   "execution_count": 23,
   "id": "4b849c1b-f035-465a-8cc3-2ec7ee2516c2",
   "metadata": {},
   "outputs": [],
   "source": [
    "from gtda.diagrams import Amplitude\n",
    "metrics = [\"bottleneck\", \"wasserstein\", \"landscape\"]\n",
    "Arr_amp=Amplitude(metric='bottleneck').fit_transform(diagrams_basic)\n",
    "for i in range(1,2):\n",
    "    res = Amplitude(metric=metrics[i]).fit_transform(diagrams_basic)\n",
    "    Arr_amp = np.concatenate((Arr_amp, res), axis=1)"
   ]
  },
  {
   "cell_type": "code",
   "execution_count": 24,
   "id": "b87f1e66-fd8c-4d2b-adb1-4b4eb66e49e0",
   "metadata": {},
   "outputs": [
    {
     "data": {
      "text/plain": [
       "(201, 4)"
      ]
     },
     "execution_count": 24,
     "metadata": {},
     "output_type": "execute_result"
    }
   ],
   "source": [
    "Arr_amp.shape"
   ]
  },
  {
   "cell_type": "code",
   "execution_count": 25,
   "id": "4ed439b5-4300-4639-9ed7-64ec2e58ac08",
   "metadata": {},
   "outputs": [],
   "source": [
    "X_features = np.concatenate((X_features, Arr_pts, Arr_amp), axis=1)"
   ]
  },
  {
   "cell_type": "code",
   "execution_count": 26,
   "id": "1bbfb4b0-6d7e-4b4b-9474-a1f46d9cb38b",
   "metadata": {},
   "outputs": [
    {
     "data": {
      "text/plain": [
       "(201, 26)"
      ]
     },
     "execution_count": 26,
     "metadata": {},
     "output_type": "execute_result"
    }
   ],
   "source": [
    "X_features.shape"
   ]
  },
  {
   "cell_type": "code",
   "execution_count": 27,
   "id": "92334e57-4a9d-4187-a027-9af39708bc41",
   "metadata": {},
   "outputs": [],
   "source": [
    "from sklearn.pipeline import Pipeline\n",
    "from gtda.diagrams import Amplitude\n",
    "from gtda.diagrams import NumberOfPoints\n",
    "from gtda.diagrams import PersistenceEntropy\n",
    "from sklearn.pipeline import make_pipeline, make_union"
   ]
  },
  {
   "cell_type": "code",
   "execution_count": 28,
   "id": "4978402a-da93-4ef4-b20d-d68b10dd4a66",
   "metadata": {
    "scrolled": true
   },
   "outputs": [
    {
     "data": {
      "text/plain": [
       "array([[1.33111049e-01, 4.43110638e-05, 1.27995625e-01],\n",
       "       [1.96261454e-01, 4.63321537e-05, 1.05129808e-01],\n",
       "       [1.08227877e-01, 3.27875948e-05, 1.14035845e-01],\n",
       "       [1.85234057e-01, 3.49910259e-05, 1.10768542e-01],\n",
       "       [2.16525905e-01, 2.70231639e-05, 1.00494057e-01],\n",
       "       [8.48908908e-02, 5.34573835e-05, 1.57038793e-01],\n",
       "       [8.96559013e-02, 7.53938114e-05, 1.50868177e-01],\n",
       "       [1.15700233e-01, 1.08880584e-04, 1.60764292e-01],\n",
       "       [8.39790812e-02, 4.40715345e-05, 1.24447301e-01],\n",
       "       [8.85912826e-02, 5.49470354e-05, 1.52141929e-01],\n",
       "       [1.94677712e-01, 2.88870790e-05, 9.27842706e-02],\n",
       "       [1.30286236e-01, 2.27181165e-05, 1.00521520e-01],\n",
       "       [7.93733171e-02, 1.14448556e-04, 1.75337315e-01],\n",
       "       [2.17222520e-01, 6.60170071e-05, 1.45030186e-01],\n",
       "       [1.32587417e-01, 3.58264239e-05, 1.18806452e-01],\n",
       "       [1.78139056e-01, 7.43492503e-05, 1.48860171e-01],\n",
       "       [1.59999229e-01, 2.75466397e-05, 1.17094398e-01],\n",
       "       [1.75938644e-01, 7.33848357e-05, 1.44405335e-01],\n",
       "       [1.09649380e-01, 6.70551991e-05, 1.38037503e-01],\n",
       "       [2.04536486e-01, 6.42865111e-05, 1.50751263e-01],\n",
       "       [6.05488806e-02, 2.78817320e-05, 1.04381636e-01],\n",
       "       [2.25650240e-01, 4.99792190e-05, 1.25277415e-01],\n",
       "       [1.00766539e-01, 5.34523420e-05, 1.43017814e-01],\n",
       "       [1.14227660e-01, 1.00738256e-04, 1.70622721e-01],\n",
       "       [1.10602646e-01, 5.82857021e-05, 1.55717060e-01],\n",
       "       [1.30554259e-01, 8.57166632e-05, 1.58959508e-01],\n",
       "       [1.60606581e-01, 4.03486721e-05, 1.14579976e-01],\n",
       "       [9.12479640e-02, 5.41624219e-05, 1.41011089e-01],\n",
       "       [1.09456744e-01, 3.23309335e-05, 1.23768225e-01],\n",
       "       [2.08960395e-01, 6.91260967e-05, 1.75787449e-01],\n",
       "       [1.25900788e-01, 6.53469927e-05, 1.44013792e-01],\n",
       "       [1.45140088e-01, 4.90226871e-05, 1.30703062e-01],\n",
       "       [6.31710205e-02, 6.07742591e-05, 1.46674916e-01],\n",
       "       [1.16671482e-01, 8.95763627e-05, 1.63147807e-01],\n",
       "       [1.43578698e-01, 7.68506472e-05, 1.75680876e-01],\n",
       "       [1.34863433e-01, 7.74134746e-05, 1.49043858e-01],\n",
       "       [2.21622706e-01, 4.17194497e-04, 2.21689075e-01],\n",
       "       [1.33088965e-01, 3.82688462e-05, 1.47274539e-01],\n",
       "       [5.95158330e-02, 4.14349759e-05, 1.41488686e-01],\n",
       "       [1.00275519e-01, 5.24087404e-05, 1.20711058e-01],\n",
       "       [1.00638380e-01, 7.82346649e-05, 1.52419031e-01],\n",
       "       [1.08771829e-01, 2.19449804e-05, 9.86419022e-02],\n",
       "       [1.26884875e-01, 7.09349834e-05, 1.66806385e-01],\n",
       "       [1.60938112e-01, 8.17186692e-05, 1.57982156e-01],\n",
       "       [9.41500797e-02, 3.02283848e-05, 1.03211164e-01],\n",
       "       [1.54153290e-01, 2.94786017e-05, 1.21221691e-01],\n",
       "       [1.64921541e-01, 6.08906580e-05, 1.34547234e-01],\n",
       "       [2.79603465e-01, 4.70182441e-05, 1.20085344e-01],\n",
       "       [1.01328162e-01, 1.24989968e-04, 1.58756196e-01],\n",
       "       [1.17711434e-01, 8.63154045e-05, 1.59869552e-01],\n",
       "       [9.68710781e-02, 3.96213613e-05, 1.06331110e-01],\n",
       "       [1.39590727e-01, 4.50148464e-05, 1.09520972e-01],\n",
       "       [1.10366939e-01, 6.37018547e-05, 1.20298445e-01],\n",
       "       [1.86620452e-01, 4.44179374e-05, 1.07251540e-01],\n",
       "       [1.10472724e-01, 5.36223149e-05, 1.35034531e-01],\n",
       "       [1.12829008e-01, 8.30082451e-05, 1.48586467e-01],\n",
       "       [1.81252357e-01, 7.98306563e-05, 1.61203071e-01],\n",
       "       [1.28846640e-01, 2.07844306e-05, 9.50940698e-02],\n",
       "       [1.01033093e-01, 3.76768176e-05, 1.07816786e-01],\n",
       "       [1.84662088e-01, 7.16787138e-05, 1.65361196e-01],\n",
       "       [1.13561444e-01, 1.47640977e-04, 1.74425617e-01],\n",
       "       [1.13511334e-01, 5.62719996e-05, 1.30885318e-01],\n",
       "       [1.56489501e-01, 1.00630178e-04, 1.63354352e-01],\n",
       "       [1.51159562e-01, 1.27640133e-04, 1.65550470e-01],\n",
       "       [7.74086494e-02, 4.23346945e-05, 1.38568074e-01],\n",
       "       [1.49242231e-01, 3.30153917e-05, 1.19447634e-01],\n",
       "       [1.77766385e-01, 5.30089494e-05, 1.39300674e-01],\n",
       "       [7.89851526e-02, 5.03600808e-05, 1.33659318e-01],\n",
       "       [2.07871043e-01, 4.73908671e-05, 1.39192253e-01],\n",
       "       [1.36751838e-01, 5.71328973e-05, 1.25877142e-01],\n",
       "       [1.08019400e-01, 1.58946335e-04, 1.80449232e-01],\n",
       "       [1.02923410e-01, 6.36563300e-05, 1.42203301e-01],\n",
       "       [1.41789979e-01, 7.55519079e-05, 1.52573645e-01],\n",
       "       [1.61096390e-01, 5.09417134e-05, 1.16527587e-01],\n",
       "       [1.75762786e-01, 5.16726664e-05, 1.30412921e-01],\n",
       "       [1.42045032e-01, 1.16144331e-04, 1.85384780e-01],\n",
       "       [1.04157712e-01, 1.31248639e-05, 7.63906240e-02],\n",
       "       [1.62728534e-01, 7.69120605e-05, 1.64707273e-01],\n",
       "       [8.75833923e-02, 1.15829790e-04, 1.58865228e-01],\n",
       "       [7.53066128e-02, 4.71953941e-05, 1.30736351e-01],\n",
       "       [1.30823875e-01, 1.98989366e-05, 9.87885296e-02],\n",
       "       [1.00675428e-01, 4.07682871e-05, 1.17154792e-01],\n",
       "       [9.17459623e-02, 7.74541707e-05, 1.56490937e-01],\n",
       "       [1.26968896e-01, 4.95637366e-05, 1.34878755e-01],\n",
       "       [1.11755455e-01, 4.50579499e-05, 1.59163296e-01],\n",
       "       [1.88628191e-01, 4.73471377e-05, 1.46124497e-01],\n",
       "       [9.70747060e-02, 6.04195496e-05, 1.27959609e-01],\n",
       "       [1.03830977e-01, 6.95307526e-05, 1.61722913e-01],\n",
       "       [8.01916396e-02, 6.59073589e-05, 1.40823200e-01],\n",
       "       [9.73977972e-02, 6.50731033e-05, 1.21367246e-01],\n",
       "       [1.11047154e-01, 1.19204521e-04, 1.86813757e-01],\n",
       "       [1.24927933e-01, 8.86843892e-05, 1.53921545e-01],\n",
       "       [1.41166017e-01, 1.14925986e-04, 1.62429824e-01],\n",
       "       [8.19105723e-02, 7.47093788e-05, 1.33035377e-01],\n",
       "       [1.15534157e-01, 7.84980189e-05, 1.57728195e-01],\n",
       "       [1.35955941e-01, 5.50692994e-05, 1.50236994e-01],\n",
       "       [1.12247329e-01, 1.00005727e-05, 9.51466858e-02],\n",
       "       [1.07332964e-01, 1.05913124e-04, 1.53028250e-01],\n",
       "       [1.40288353e-01, 1.27191193e-04, 1.66420892e-01],\n",
       "       [1.31875413e-01, 5.70879762e-05, 1.45616770e-01],\n",
       "       [1.10205003e-01, 6.22654464e-05, 1.36989683e-01],\n",
       "       [1.48513566e-01, 1.17507766e-04, 1.60237312e-01],\n",
       "       [6.12399483e-02, 5.43802056e-05, 1.57565683e-01],\n",
       "       [1.03735106e-01, 6.85577736e-05, 1.53815553e-01],\n",
       "       [8.72323143e-02, 3.94073366e-05, 1.35021880e-01],\n",
       "       [5.63296219e-02, 4.55145151e-05, 1.16959438e-01],\n",
       "       [1.34639616e-01, 1.40801858e-04, 2.13613242e-01],\n",
       "       [8.32218299e-02, 5.71573475e-05, 1.62532255e-01],\n",
       "       [1.10463103e-01, 6.64997570e-05, 1.30217463e-01],\n",
       "       [8.30776790e-02, 8.79021903e-05, 1.72933236e-01],\n",
       "       [1.58580526e-01, 5.08033863e-05, 1.34036243e-01],\n",
       "       [8.84857463e-02, 6.66652038e-05, 1.68199867e-01],\n",
       "       [1.18293200e-01, 7.80807373e-05, 1.68393537e-01],\n",
       "       [1.66745239e-01, 1.23262052e-04, 1.67476133e-01],\n",
       "       [9.21044876e-02, 8.66524552e-05, 1.38927773e-01],\n",
       "       [2.95053525e-01, 2.47386108e-05, 1.17924109e-01],\n",
       "       [8.53669189e-02, 5.11928496e-05, 1.21908575e-01],\n",
       "       [1.52233732e-01, 4.13548793e-05, 1.23867705e-01],\n",
       "       [1.29408072e-01, 7.89994558e-05, 1.64082617e-01],\n",
       "       [1.66431454e-01, 1.83051770e-04, 1.98412031e-01],\n",
       "       [1.63039791e-01, 9.71356352e-05, 1.58152208e-01],\n",
       "       [1.05177188e-01, 1.49013322e-04, 1.69807002e-01],\n",
       "       [1.89598369e-01, 3.52427868e-05, 1.00340039e-01],\n",
       "       [1.08038610e-01, 2.48247854e-05, 1.18186295e-01],\n",
       "       [1.05815563e-01, 2.22945450e-05, 1.14604279e-01],\n",
       "       [1.09620233e-01, 8.41023846e-05, 1.79195330e-01],\n",
       "       [1.60962027e-01, 8.43228584e-05, 1.54186264e-01],\n",
       "       [6.26753294e-02, 2.15674720e-05, 1.15350157e-01],\n",
       "       [1.95183155e-01, 2.38990900e-05, 1.14349395e-01],\n",
       "       [1.09150360e-01, 1.17461243e-05, 7.63173401e-02],\n",
       "       [1.62384886e-01, 4.27546221e-05, 1.29895747e-01],\n",
       "       [1.78759976e-01, 6.14918806e-05, 1.25575259e-01],\n",
       "       [1.01833066e-01, 9.98146269e-05, 1.52955145e-01],\n",
       "       [1.38420736e-01, 7.16771148e-05, 1.37463093e-01],\n",
       "       [7.45249850e-02, 3.87838497e-05, 1.18279904e-01],\n",
       "       [1.05670805e-01, 5.59241391e-05, 1.45368338e-01],\n",
       "       [1.50168448e-01, 1.31584217e-04, 1.95660666e-01],\n",
       "       [1.47607963e-01, 4.47454663e-05, 1.19225994e-01],\n",
       "       [1.37105665e-01, 2.28026202e-05, 1.07982770e-01],\n",
       "       [1.25089419e-01, 4.08792322e-05, 1.48181334e-01],\n",
       "       [1.10497378e-01, 6.47281741e-05, 1.37370035e-01],\n",
       "       [8.78918221e-02, 5.84265394e-05, 1.17611140e-01],\n",
       "       [1.14578376e-01, 4.13139727e-05, 1.09813184e-01],\n",
       "       [1.09536381e-01, 3.62448230e-05, 1.25750899e-01],\n",
       "       [1.18934997e-01, 6.02813690e-05, 1.35099649e-01],\n",
       "       [1.56242524e-01, 1.79561709e-05, 9.05385911e-02],\n",
       "       [1.32703150e-01, 3.20573892e-05, 1.26294971e-01],\n",
       "       [1.58616810e-01, 6.69894875e-05, 1.48682132e-01],\n",
       "       [1.52443519e-01, 1.26366603e-04, 1.68993190e-01],\n",
       "       [1.49011354e-01, 3.14933884e-05, 1.31488815e-01],\n",
       "       [1.18654604e-01, 9.40938042e-05, 1.64425611e-01],\n",
       "       [1.62864403e-01, 3.44516304e-05, 1.15445167e-01],\n",
       "       [1.66509936e-01, 3.30593441e-05, 1.11188084e-01],\n",
       "       [1.43199984e-01, 5.80598963e-05, 1.25814676e-01],\n",
       "       [7.06885877e-02, 4.81275422e-05, 1.33409679e-01],\n",
       "       [1.03927653e-01, 8.58855862e-05, 1.46093354e-01],\n",
       "       [1.43169815e-01, 5.69818895e-05, 1.29533753e-01],\n",
       "       [8.86358238e-02, 5.70509068e-05, 1.37735263e-01],\n",
       "       [1.01036284e-01, 1.22584797e-04, 1.58888325e-01],\n",
       "       [1.06573306e-01, 5.96778158e-05, 1.33014977e-01],\n",
       "       [1.74836688e-01, 9.99051870e-05, 1.50286660e-01],\n",
       "       [7.51460658e-02, 2.67568951e-05, 1.13763392e-01],\n",
       "       [8.67728673e-02, 8.37749107e-05, 1.52399540e-01],\n",
       "       [1.79520532e-01, 5.75050799e-05, 1.43164530e-01],\n",
       "       [1.41436804e-01, 3.64320568e-05, 1.15657136e-01],\n",
       "       [1.13546100e-01, 4.44215532e-05, 1.40482292e-01],\n",
       "       [1.53419895e-01, 7.89600040e-05, 1.42398745e-01],\n",
       "       [6.97849115e-02, 5.54378161e-05, 1.21576965e-01],\n",
       "       [1.13576437e-01, 7.48434440e-05, 1.50663406e-01],\n",
       "       [1.36085640e-01, 7.49371519e-05, 1.35131866e-01],\n",
       "       [1.51389279e-01, 9.92186674e-05, 1.74803644e-01],\n",
       "       [1.22900791e-01, 6.29564949e-05, 1.30632088e-01],\n",
       "       [1.43070553e-01, 9.52581692e-05, 1.73193067e-01],\n",
       "       [7.88569437e-02, 7.07526119e-05, 1.34314477e-01],\n",
       "       [1.38591124e-01, 4.09676774e-05, 1.10929251e-01],\n",
       "       [8.92024057e-02, 1.20164200e-04, 1.64690077e-01],\n",
       "       [4.74356490e-02, 2.73215706e-05, 1.24704629e-01],\n",
       "       [6.89734537e-02, 6.82320755e-05, 1.56534389e-01],\n",
       "       [1.93673703e-01, 1.59555565e-04, 1.91717327e-01],\n",
       "       [1.28885324e-01, 5.17738223e-05, 1.33523792e-01],\n",
       "       [1.15035671e-01, 8.50098595e-05, 1.54056206e-01],\n",
       "       [1.67168158e-01, 5.96591860e-05, 1.53685600e-01],\n",
       "       [1.50751783e-01, 4.63413191e-05, 1.22276947e-01],\n",
       "       [1.64858369e-01, 1.97699709e-04, 2.01333582e-01],\n",
       "       [1.48752360e-01, 1.67468488e-04, 1.82985470e-01],\n",
       "       [1.78730737e-01, 6.17832864e-05, 1.24725193e-01],\n",
       "       [2.27459043e-01, 5.30828976e-05, 1.14692390e-01],\n",
       "       [1.42925797e-01, 3.95249399e-05, 1.36613086e-01],\n",
       "       [1.59721528e-01, 3.50956224e-05, 1.39415234e-01],\n",
       "       [1.05563073e-01, 2.73600084e-05, 1.02229357e-01],\n",
       "       [8.08898285e-02, 6.82907455e-05, 1.56661406e-01],\n",
       "       [7.23633725e-02, 5.78166586e-05, 1.38620645e-01],\n",
       "       [2.10071575e-01, 5.65803037e-05, 1.28253728e-01],\n",
       "       [5.68931254e-02, 2.03369747e-05, 1.25746682e-01],\n",
       "       [2.73827547e-01, 3.65203062e-05, 1.39826864e-01],\n",
       "       [1.65764302e-01, 6.28164898e-05, 1.45121515e-01],\n",
       "       [5.89176968e-02, 2.59953193e-05, 9.89875942e-02],\n",
       "       [1.30612371e-01, 1.19966079e-04, 1.39500439e-01],\n",
       "       [1.12534613e-01, 1.36238513e-04, 1.92123517e-01],\n",
       "       [1.80040926e-01, 1.05604727e-04, 1.56192571e-01],\n",
       "       [1.35979223e-01, 8.26193263e-05, 1.66006416e-01]])"
      ]
     },
     "execution_count": 28,
     "metadata": {},
     "output_type": "execute_result"
    }
   ],
   "source": [
    "X_cc_0 = FeatureMatrix[-8]\n",
    "X_cc_0\n",
    "X_cc_1 = FeatureMatrix[-9]\n",
    "X_cc_1"
   ]
  },
  {
   "cell_type": "code",
   "execution_count": 29,
   "id": "4c8e3c52-feef-4832-b4ae-3000e30ef132",
   "metadata": {},
   "outputs": [
    {
     "data": {
      "text/plain": [
       "array([[1.33111049e-01, 3.82218636e-06, 1.27995625e-01],\n",
       "       [1.96261454e-01, 7.64341546e-06, 1.05129808e-01],\n",
       "       [1.08227877e-01, 2.13315607e-06, 1.14035845e-01],\n",
       "       ...,\n",
       "       [1.12534613e-01, 1.36238513e-04, 1.92123517e-01],\n",
       "       [1.80040926e-01, 1.05604727e-04, 1.56192571e-01],\n",
       "       [1.35979223e-01, 8.26193263e-05, 1.66006416e-01]])"
      ]
     },
     "execution_count": 29,
     "metadata": {},
     "output_type": "execute_result"
    }
   ],
   "source": [
    "result = np.concatenate((X_cc_0, X_cc_1), axis=0)\n",
    "result"
   ]
  },
  {
   "cell_type": "code",
   "execution_count": 30,
   "id": "04b421cf-a787-4695-a3c0-b77e64f0879a",
   "metadata": {},
   "outputs": [
    {
     "name": "stdout",
     "output_type": "stream",
     "text": [
      "Shape of embedded time series: (99, 3)\n",
      "Optimal embedding dimension is 3 and time delay is 5\n"
     ]
    }
   ],
   "source": [
    "embedding_dimension = 30\n",
    "embedding_time_delay = 300\n",
    "stride = 10\n",
    "\n",
    "embedder = SingleTakensEmbedding(\n",
    "    parameters_type=\"search\", n_jobs=2, time_delay=embedding_time_delay, dimension=embedding_dimension, stride=stride\n",
    ")\n",
    "\n",
    "y_noise_embedded = fit_embedder(embedder, signal)"
   ]
  },
  {
   "cell_type": "code",
   "execution_count": 31,
   "id": "408d5f85-1606-4b00-bb71-73507733c89e",
   "metadata": {},
   "outputs": [],
   "source": [
    "from ripser import ripser\n",
    "from persim import plot_diagrams\n",
    "res = ripser(y_noise_embedded, n_perm=90)\n",
    "dgms_sub = res['dgms']"
   ]
  },
  {
   "cell_type": "code",
   "execution_count": 32,
   "id": "d956782d-7a1b-47b0-9841-93bb989533b6",
   "metadata": {},
   "outputs": [],
   "source": [
    "def convert_dgm(dgm):\n",
    "    Arr = dgm.copy()\n",
    "    Arr[0] = Arr[0][:-1]\n",
    "    col_a  = np.zeros(Arr[0].shape[0])\n",
    "    Arr[0] = np.column_stack((Arr[0], col_a))\n",
    "    \n",
    "    col_b  = np.ones(Arr[1].shape[0], dtype=int)\n",
    "    Arr[1] = np.column_stack((Arr[1], col_b))\n",
    "    temp_1 = list(Arr[0])\n",
    "    temp_2 = list(Arr[1])\n",
    "    temp_1.extend(temp_2)\n",
    "    return np.asarray(temp_1)"
   ]
  },
  {
   "cell_type": "code",
   "execution_count": 33,
   "id": "e3e07a89-b15c-4a48-a928-2620b14887b0",
   "metadata": {},
   "outputs": [
    {
     "data": {
      "text/plain": [
       "(125, 3)"
      ]
     },
     "execution_count": 33,
     "metadata": {},
     "output_type": "execute_result"
    }
   ],
   "source": [
    "res = convert_dgm(dgms_sub)\n",
    "res.shape"
   ]
  },
  {
   "cell_type": "code",
   "execution_count": 34,
   "id": "1d38bcdb-4757-4663-aaaa-df1a85b7b6ac",
   "metadata": {},
   "outputs": [
    {
     "data": {
      "text/plain": [
       "(1, 125, 3)"
      ]
     },
     "execution_count": 34,
     "metadata": {},
     "output_type": "execute_result"
    }
   ],
   "source": [
    "res[None,:,:].shape"
   ]
  },
  {
   "cell_type": "code",
   "execution_count": 36,
   "id": "da851a70-5ce2-4015-b2cc-117b6376f6cb",
   "metadata": {},
   "outputs": [
    {
     "data": {
      "text/plain": [
       "(1220,)"
      ]
     },
     "execution_count": 36,
     "metadata": {},
     "output_type": "execute_result"
    }
   ],
   "source": [
    "# Listing all metrics we want to use to extract diagram amplitudes\n",
    "metrics = [\n",
    "    {\"metric\": \"bottleneck\", \"metric_params\": {}},\n",
    "    {\"metric\": \"wasserstein\", \"metric_params\": {\"p\": 2}},\n",
    "    {\"metric\": \"betti\", \"metric_params\": {\"p\": 2, \"n_bins\": 100}},\n",
    "    {\"metric\": \"heat\", \"metric_params\": {\"p\": 2, \"sigma\": 1.6, \"n_bins\": 100}},\n",
    "    {\"metric\": \"heat\", \"metric_params\": {\"p\": 2, \"sigma\": 3.2, \"n_bins\": 100}},\n",
    "]\n",
    "feature_union = make_union(\n",
    "    PersistenceEntropy(normalize=True),\n",
    "    NumberOfPoints(n_jobs=-1),\n",
    "    *[Amplitude(**metric, n_jobs=-1) for metric in metrics]\n",
    ")\n",
    "single_data = feature_union.fit_transform(res[None,:,:])\n",
    "single_data.shape\n",
    "X_metrics = single_data\n",
    "X_metrics.shape\n",
    "single_X_train =np.concatenate((X_cc_0,X_cc_1, X_metrics), axis=None)\n",
    "single_X_train\n",
    "single_X_train.shape"
   ]
  },
  {
   "cell_type": "markdown",
   "id": "a028bce3-87a1-40b6-8276-27930e64abe7",
   "metadata": {},
   "source": [
    "## Model Training and evaluation"
   ]
  },
  {
   "cell_type": "code",
   "execution_count": 45,
   "id": "587e31f5-26de-4fc3-96b3-bac11282f056",
   "metadata": {},
   "outputs": [],
   "source": [
    "labels = np.array(labels)  \n",
    "labels = labels.reshape(-1, 1)  "
   ]
  },
  {
   "cell_type": "code",
   "execution_count": 46,
   "id": "e3b1df89-e8b7-48af-a1ba-5640701f60b0",
   "metadata": {},
   "outputs": [
    {
     "data": {
      "text/plain": [
       "(201, 1)"
      ]
     },
     "execution_count": 46,
     "metadata": {},
     "output_type": "execute_result"
    }
   ],
   "source": [
    "labels.shape"
   ]
  },
  {
   "cell_type": "code",
   "execution_count": 39,
   "id": "162d81f6-5491-47ab-bad4-b41c1646cc78",
   "metadata": {
    "scrolled": true
   },
   "outputs": [],
   "source": [
    "import numpy as np\n",
    "from sklearn.model_selection import train_test_split\n",
    "\n",
    "X_features = np.array(X_features)\n",
    "\n",
    "labels = ndarray\n",
    "\n",
    "# Now split the data\n",
    "single_X_train, X_valid, y_train, y_valid = train_test_split(\n",
    "    X_features,  # Features to train/test\n",
    "    labels,      # Corresponding labels\n",
    "    test_size=0.2,  # 20% data will be used for validation\n",
    "    random_state=50,  # For reproducibility\n",
    "    stratify=labels  \n",
    ")"
   ]
  },
  {
   "cell_type": "code",
   "execution_count": 40,
   "id": "3fedee75-fcd7-4f9c-a0e7-0d1ec71d1f2f",
   "metadata": {},
   "outputs": [],
   "source": [
    "def print_scores(fitted_model):\n",
    "    res = {\n",
    "        \"Accuracy on train:\": accuracy_score(fitted_model.predict(single_X_train), y_train),\n",
    "        \"ROC AUC on train:\": roc_auc_score(y_train, fitted_model.predict_proba(single_X_train)[:, 1]),\n",
    "        \"Accuracy on valid:\": accuracy_score(fitted_model.predict(X_valid), y_valid),\n",
    "        \"ROC AUC on valid:\": roc_auc_score(y_valid, fitted_model.predict_proba(X_valid)[:, 1]),\n",
    "    }\n",
    "    if hasattr(fitted_model, \"oob_score_\"):\n",
    "        res[\"OOB accuracy:\"] = fitted_model.oob_score_\n",
    "\n",
    "    for k, v in res.items():\n",
    "        print(k, round(v, 3))"
   ]
  },
  {
   "cell_type": "code",
   "execution_count": 42,
   "id": "25853dd9-d203-4142-8192-192e43af8038",
   "metadata": {},
   "outputs": [
    {
     "name": "stdout",
     "output_type": "stream",
     "text": [
      "Accuracy on train: 1.0\n",
      "ROC AUC on train: 1.0\n",
      "Accuracy on valid: 0.61\n",
      "ROC AUC on valid: 0.6\n"
     ]
    }
   ],
   "source": [
    "import warnings\n",
    "from sklearn.exceptions import DataConversionWarning\n",
    "warnings.filterwarnings(action='ignore', category=DataConversionWarning)\n",
    "\n",
    "rf = RandomForestClassifier(random_state=42)\n",
    "rf.fit(single_X_train, y_train)\n",
    "print_scores(rf)"
   ]
  },
  {
   "cell_type": "markdown",
   "id": "ac152537-4167-454b-9da7-db31ed26f28b",
   "metadata": {},
   "source": [
    "## Comment:\n",
    ">The training accuracy and ROC AUC both reach **1.0**, which indicates perfect performance on the training data. However, the validation accuracy of 61% and a ROC AUC of **0.6** suggest a significant gap, pointing towards overfitting. The model performs excellently on the training set but struggles to generalize to unseen data, as reflected by the low performance metrics on the validation set. This imbalance indicates the need for improvements, such as better feature selection, regularization, or model complexity adjustments, to enhance generalization capabilities."
   ]
  },
  {
   "cell_type": "code",
   "execution_count": 48,
   "id": "81b4c3a1-6d4a-4275-af2b-6ca2e7770c10",
   "metadata": {
    "scrolled": true
   },
   "outputs": [
    {
     "data": {
      "image/png": "[encoded data removed]",
      "text/plain": [
       "<Figure size 800x600 with 1 Axes>"
      ]
     },
     "metadata": {},
     "output_type": "display_data"
    }
   ],
   "source": [
    "import matplotlib.pyplot as plt\n",
    "from sklearn.metrics import roc_curve, auc\n",
    "\n",
    "y_train_pred_prob = rf.predict_proba(single_X_train)[:, 1] \n",
    "y_valid_pred_prob = rf.predict_proba(X_valid)[:, 1]  \n",
    "\n",
    "# Compute ROC curve and AUC for training set\n",
    "fpr_train, tpr_train, _ = roc_curve(y_train, y_train_pred_prob)\n",
    "roc_auc_train = auc(fpr_train, tpr_train)\n",
    "\n",
    "# Compute ROC curve and AUC for validation set\n",
    "fpr_valid, tpr_valid, _ = roc_curve(y_valid, y_valid_pred_prob)\n",
    "roc_auc_valid = auc(fpr_valid, tpr_valid)\n",
    "\n",
    "# Plot ROC curve\n",
    "plt.figure(figsize=(8, 6))\n",
    "plt.plot(fpr_train, tpr_train, color='blue', label=f'Train ROC curve (AUC = {roc_auc_train:.2f})')\n",
    "plt.plot(fpr_valid, tpr_valid, color='green', label=f'Validation ROC curve (AUC = {roc_auc_valid:.2f})')\n",
    "plt.plot([0, 1], [0, 1], color='navy', linestyle='--')\n",
    "plt.xlabel('False Positive Rate')\n",
    "plt.ylabel('True Positive Rate')\n",
    "plt.title('Receiver Operating Characteristic (ROC) Curve')\n",
    "plt.legend(loc='lower right')\n",
    "plt.show()"
   ]
  },
  {
   "cell_type": "markdown",
   "id": "3ca524fb-40d2-43f0-b80c-1726da1e1565",
   "metadata": {},
   "source": [
    "> ### Comment on ROC Curve Plot:\n",
    "\n",
    ">> The ROC (Receiver Operating Characteristic) curve above compares the performance of the Random Forest classifier on both the training and validation datasets. The curve illustrates the trade-off between the True Positive Rate (TPR) and the False Positive Rate (FPR) at various threshold settings.\n",
    "\n",
    ">> Train ROC Curve : The model shows perfect performance on the training data, with an AUC of 1.0, which indicates that the model perfectly distinguishes between the two classes on the training set.\n",
    "\n",
    ">> Validation ROC Curve (AUC = {roc_auc_valid:.2f}): The model's performance on the validation dataset is somewhat lower (AUC = 0.61), suggesting that it struggles to generalize well to new, unseen data. This indicates potential overfitting on the training set, where the model learned specific patterns from the training data but failed to perform equally well on the validation set.\n",
    "\n",
    "> In general, a higher AUC value represents better model performance, with values closer to 1.0 signifying a strong model, while values around 0.5 indicate random guessing. \n",
    "The gap in AUC between the training and validation sets suggests the need for further tuning or regularization to improve the model's generalization capabilities."
   ]
  },
  {
   "cell_type": "code",
   "execution_count": 44,
   "id": "de631224-2106-40c1-adff-2e603d6e6d10",
   "metadata": {},
   "outputs": [
    {
     "data": {
      "text/plain": [
       "(1, 2)"
      ]
     },
     "execution_count": 44,
     "metadata": {},
     "output_type": "execute_result"
    }
   ],
   "source": [
    "from gtda.diagrams import PersistenceEntropy\n",
    "\n",
    "persistence_entropy = PersistenceEntropy()\n",
    "\n",
    "X_pe = persistence_entropy.fit_transform(res[None,:,:])\n",
    "X_pe.shape"
   ]
  },
  {
   "cell_type": "markdown",
   "id": "a9d24322-13cd-4632-b5c5-cca2108fa553",
   "metadata": {},
   "source": [
    "## Conclusion\n",
    "\n",
    "> In this project, we successfully adapted the existing notebook to work with a new dataset consisting of normal and wheezing breathing sounds. After preprocessing the data and extracting relevant features, we trained a Random Forest classifier to classify the sounds into two categories: \"Normal\" and \"Wheezing\".\n",
    "> The model achieved perfect accuracy on the training set, but its performance on the validation set (accuracy: 61%, ROC AUC: 0.6) was less impressive. This discrepancy suggests potential overfitting, where the model has learned to perform well on the training data but struggles to generalize to unseen data. The ROC curves further highlighted this, with the training AUC being significantly higher than the validation AUC.\n",
    "> To improve the model's generalization performance, additional steps such as hyperparameter tuning, feature selection, or regularization could be explored. Despite the current challenges, the project demonstrates the basic process of adapting a machine learning pipeline to a new dataset, and provides insight into the difficulties of model generalization in real-world scenarios."
   ]
  },
  {
   "cell_type": "code",
   "execution_count": null,
   "id": "0f5dafd4-bff0-460f-8f90-323189213125",
   "metadata": {},
   "outputs": [],
   "source": []
  }
 ],
 "metadata": {
  "kernelspec": {
   "display_name": "Python 3 (ipykernel)",
   "language": "python",
   "name": "python3"
  },
  "language_info": {
   "codemirror_mode": {
    "name": "ipython",
    "version": 3
   },
   "file_extension": ".py",
   "mimetype": "text/x-python",
   "name": "python",
   "nbconvert_exporter": "python",
   "pygments_lexer": "ipython3",
   "version": "3.12.3"
  }
 },
 "nbformat": 4,
 "nbformat_minor": 5
}
